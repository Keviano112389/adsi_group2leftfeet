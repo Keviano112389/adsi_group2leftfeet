{
 "cells": [
  {
   "cell_type": "code",
   "execution_count": null,
   "id": "impaired-thread",
   "metadata": {},
   "outputs": [],
   "source": [
    "from sklearn.ensemble import RandomForestClassifier"
   ]
  },
  {
   "cell_type": "code",
   "execution_count": null,
   "id": "quality-wrapping",
   "metadata": {},
   "outputs": [],
   "source": [
    "rf = RandomForestClassifier(random_state = 8)"
   ]
  },
  {
   "cell_type": "code",
   "execution_count": null,
   "id": "optical-loading",
   "metadata": {},
   "outputs": [],
   "source": [
    "from sklearn.model_selection import GridSearchCV\n",
    "\n",
    "param_grid = {\n",
    "    'bootstrap': [True],\n",
    "    'max_depth': [5,10,20],\n",
    "    'max_features': [2, 3, 5, 7, 9, 11, 13, 15, 18, 21],\n",
    "    'min_samples_leaf': [1,3,5],\n",
    "    'min_samples_split': [5],\n",
    "    'n_estimators': [500, 1000, 2000]\n",
    "}\n",
    "\n",
    "rf = RandomForestRegressor()\n",
    "\n",
    "grid_search = GridSearchCV(estimator = rf, param_grid = param_grid, \n",
    "                          cv = 3, n_jobs = -1, verbose = 2)"
   ]
  },
  {
   "cell_type": "code",
   "execution_count": null,
   "id": "coated-emperor",
   "metadata": {},
   "outputs": [],
   "source": [
    "# Fit the grid search to the data\n",
    "grid_search.fit(x_train_res, y_train_res)\n",
    "grid_search.best_params_\n",
    "best_grid = grid_search.best_estimator_"
   ]
  },
  {
   "cell_type": "code",
   "execution_count": null,
   "id": "surrounded-vision",
   "metadata": {},
   "outputs": [],
   "source": [
    "grid_search.best_params_"
   ]
  },
  {
   "cell_type": "code",
   "execution_count": null,
   "id": "static-destiny",
   "metadata": {},
   "outputs": [],
   "source": [
    "rf_model =  RandomForestClassifier(bootstrap=True, class_weight=None, criterion='gini',\n",
    "            max_depth=20, max_features=7, \n",
    "            min_samples_leaf=1, min_samples_split=5,\n",
    "            n_estimators=100, n_jobs=-1,\n",
    "            random_state=8, verbose=1)"
   ]
  },
  {
   "cell_type": "code",
   "execution_count": null,
   "id": "sixth-guinea",
   "metadata": {},
   "outputs": [],
   "source": [
    "rf_model.fit(x_train_res,y_train_res)"
   ]
  },
  {
   "cell_type": "code",
   "execution_count": null,
   "id": "increased-laundry",
   "metadata": {},
   "outputs": [],
   "source": [
    "y_pred=rf_model.predict(x_val_res)"
   ]
  },
  {
   "cell_type": "code",
   "execution_count": null,
   "id": "innocent-cowboy",
   "metadata": {},
   "outputs": [],
   "source": [
    "from sklearn import metrics\n",
    "print(\"roc_auc:\",metrics.accuracy_score(y_val_res, y_pred))"
   ]
  },
  {
   "cell_type": "code",
   "execution_count": null,
   "id": "opposite-teacher",
   "metadata": {},
   "outputs": [],
   "source": [
    "feature_imp = pd.Series(rf_model.feature_importances_,index=columns).sort_values(ascending=False)\n",
    "feature_imp"
   ]
  },
  {
   "cell_type": "code",
   "execution_count": null,
   "id": "incorporate-genius",
   "metadata": {},
   "outputs": [],
   "source": [
    "# Creating a bar plot\n",
    "sns.barplot(x=feature_imp, y=feature_imp.index)\n",
    "# Add labels to your graph\n",
    "plt.xlabel('Feature Importance Score')\n",
    "plt.ylabel('Features')\n",
    "plt.title(\"Visualizing Important Features\")\n",
    "plt.legend()\n",
    "plt.show()"
   ]
  },
  {
   "cell_type": "code",
   "execution_count": null,
   "id": "resident-correspondence",
   "metadata": {},
   "outputs": [],
   "source": [
    "confusion_matrix = confusion_matrix(y_val_res, y_pred)\n",
    "print(confusion_matrix)"
   ]
  },
  {
   "cell_type": "code",
   "execution_count": null,
   "id": "racial-flooring",
   "metadata": {},
   "outputs": [],
   "source": [
    "print(classification_report(y_val_res, y_pred))"
   ]
  },
  {
   "cell_type": "code",
   "execution_count": null,
   "id": "engaged-certificate",
   "metadata": {},
   "outputs": [],
   "source": [
    "#ROC of Upsampled and Hyper Parameter Tuning\n",
    "roc_train=roc_auc_score(y_train_res, rf_model.predict_proba(x_train_res)[:,1])\n",
    "roc_test=roc_auc_score(y_val_res, rf_model.predict_proba(x_val_res)[:,1])\n",
    "print(roc_train)\n",
    "print(roc_test)"
   ]
  },
  {
   "cell_type": "code",
   "execution_count": null,
   "id": "ideal-victoria",
   "metadata": {},
   "outputs": [],
   "source": [
    "rf_roc_auc_test = roc_auc_score(y_test, rf_model.predict(X_test))\n",
    "rf_roc_auc_train = roc_auc_score(y_train, rf_model.predict(X_train))\n",
    "fpr_test, tpr_test, thresholds_test = roc_curve(y_test, rf_model.predict_proba(X_test)[:,1])\n",
    "fpr_train, tpr_train, thresholds_train = roc_curve(y_train, rf_model.predict_proba(X_train)[:,1])\n",
    "plt.figure()\n",
    "plt.plot(fpr_train, tpr_train, label='RF train (area = %0.2f)' % rf_roc_auc_train)\n",
    "plt.plot(fpr_test, tpr_test, label='RF test (area = %0.2f)' % rf_roc_auc_test)\n",
    "plt.plot([0, 1], [0, 1],'r--')\n",
    "plt.xlim([0.0, 1.0])\n",
    "plt.ylim([0.0, 1.05])\n",
    "plt.xlabel('False Positive Rate')\n",
    "plt.ylabel('True Positive Rate')\n",
    "plt.title('Receiver operating characteristic')\n",
    "plt.legend(loc=\"lower right\")\n",
    "plt.savefig('RF_ROC')\n",
    "plt.show()"
   ]
  },
  {
   "cell_type": "code",
   "execution_count": null,
   "id": "competitive-cinema",
   "metadata": {},
   "outputs": [],
   "source": []
  }
 ],
 "metadata": {
  "kernelspec": {
   "display_name": "Python 3",
   "language": "python",
   "name": "python3"
  },
  "language_info": {
   "codemirror_mode": {
    "name": "ipython",
    "version": 3
   },
   "file_extension": ".py",
   "mimetype": "text/x-python",
   "name": "python",
   "nbconvert_exporter": "python",
   "pygments_lexer": "ipython3",
   "version": "3.9.1"
  }
 },
 "nbformat": 4,
 "nbformat_minor": 5
}
